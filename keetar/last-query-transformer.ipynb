{
 "metadata": {
  "language_info": {
   "codemirror_mode": {
    "name": "ipython",
    "version": 3
   },
   "file_extension": ".py",
   "mimetype": "text/x-python",
   "name": "python",
   "nbconvert_exporter": "python",
   "pygments_lexer": "ipython3",
   "version": "3.7.8-final"
  },
  "orig_nbformat": 2,
  "kernelspec": {
   "name": "python3",
   "display_name": "Python 3",
   "language": "python"
  }
 },
 "nbformat": 4,
 "nbformat_minor": 2,
 "cells": [
  {
   "cell_type": "code",
   "execution_count": 43,
   "metadata": {},
   "outputs": [],
   "source": [
    "import pandas as pd\n",
    "from sklearn.model_selection import train_test_split\n",
    "\n",
    "import torch\n",
    "from torch import nn\n",
    "from torch.nn.utils.rnn import pad_sequence"
   ]
  },
  {
   "source": [
    "# Introduction\n",
    "\n",
    "Le fichier train.csv comprend un peu plus de 100 millions de lignes.  \n",
    "Il y a un peu moins de 400 mille user_id uniques.  \n",
    "Le modèle utilisé dans ce notebook prend en entrée une série par utilisateur."
   ],
   "cell_type": "markdown",
   "metadata": {}
  },
  {
   "source": [
    "# Features utilisées\n",
    "Pour chaque question de la série d'apprentissage d'un utilisateur quelconque  \n",
    "\n",
    "1. Question ID: correspond à content_id (lorsque l'élément est une question).\n",
    "2. Question part: correspond à part dans question.csv pour l'élément dont question_id correspondant à content_id\n",
    "3. Answer correctness: valeur de answered_correctly de l'exemple (ou target encoding de la question ?)\n",
    "4. Current question elapsed time: prior question de la question suivante.\n",
    "5. Timestamp difference: current question timestamp - timestamp of the last question from the same user"
   ],
   "cell_type": "markdown",
   "metadata": {}
  },
  {
   "source": [
    "# Chargement des données"
   ],
   "cell_type": "markdown",
   "metadata": {}
  },
  {
   "cell_type": "code",
   "execution_count": 2,
   "metadata": {},
   "outputs": [
    {
     "output_type": "execute_result",
     "data": {
      "text/plain": [
       "       question_id  part\n",
       "0                0     1\n",
       "1                1     1\n",
       "2                2     1\n",
       "3                3     1\n",
       "4                4     1\n",
       "...            ...   ...\n",
       "13518        13518     5\n",
       "13519        13519     5\n",
       "13520        13520     5\n",
       "13521        13521     5\n",
       "13522        13522     5\n",
       "\n",
       "[13523 rows x 2 columns]"
      ],
      "text/html": "<div>\n<style scoped>\n    .dataframe tbody tr th:only-of-type {\n        vertical-align: middle;\n    }\n\n    .dataframe tbody tr th {\n        vertical-align: top;\n    }\n\n    .dataframe thead th {\n        text-align: right;\n    }\n</style>\n<table border=\"1\" class=\"dataframe\">\n  <thead>\n    <tr style=\"text-align: right;\">\n      <th></th>\n      <th>question_id</th>\n      <th>part</th>\n    </tr>\n  </thead>\n  <tbody>\n    <tr>\n      <th>0</th>\n      <td>0</td>\n      <td>1</td>\n    </tr>\n    <tr>\n      <th>1</th>\n      <td>1</td>\n      <td>1</td>\n    </tr>\n    <tr>\n      <th>2</th>\n      <td>2</td>\n      <td>1</td>\n    </tr>\n    <tr>\n      <th>3</th>\n      <td>3</td>\n      <td>1</td>\n    </tr>\n    <tr>\n      <th>4</th>\n      <td>4</td>\n      <td>1</td>\n    </tr>\n    <tr>\n      <th>...</th>\n      <td>...</td>\n      <td>...</td>\n    </tr>\n    <tr>\n      <th>13518</th>\n      <td>13518</td>\n      <td>5</td>\n    </tr>\n    <tr>\n      <th>13519</th>\n      <td>13519</td>\n      <td>5</td>\n    </tr>\n    <tr>\n      <th>13520</th>\n      <td>13520</td>\n      <td>5</td>\n    </tr>\n    <tr>\n      <th>13521</th>\n      <td>13521</td>\n      <td>5</td>\n    </tr>\n    <tr>\n      <th>13522</th>\n      <td>13522</td>\n      <td>5</td>\n    </tr>\n  </tbody>\n</table>\n<p>13523 rows × 2 columns</p>\n</div>"
     },
     "metadata": {},
     "execution_count": 2
    }
   ],
   "source": [
    "questions_df = pd.read_csv('../input/riiid-test-answer-prediction/questions.csv', usecols=[0, 3])\n",
    "questions_df"
   ]
  },
  {
   "cell_type": "code",
   "execution_count": 3,
   "metadata": {},
   "outputs": [],
   "source": [
    "data_types_dict={\n",
    "    #'row_id': 'int64',\n",
    "    'timestamp': 'int64',\n",
    "    'user_id': 'int32',\n",
    "    'content_id': 'int16',\n",
    "    'content_type_id': 'int8',\n",
    "    #'task_container_id': 'int16',\n",
    "    #'user_answer': 'int8',\n",
    "    'answered_correctly': 'int8',\n",
    "    'prior_question_elapsed_time': 'float32', \n",
    "    #'prior_question_had_explanation': 'boolean',\n",
    "    }"
   ]
  },
  {
   "cell_type": "code",
   "execution_count": 4,
   "metadata": {},
   "outputs": [],
   "source": [
    "train = pd.read_csv('../input/riiid-test-answer-prediction/train.csv', usecols=data_types_dict.keys(), dtype=data_types_dict)[:1_000_000]#, skipfooter=90_000_000)"
   ]
  },
  {
   "cell_type": "code",
   "execution_count": 5,
   "metadata": {},
   "outputs": [
    {
     "output_type": "execute_result",
     "data": {
      "text/plain": [
       "        timestamp   user_id  content_id  content_type_id  answered_correctly  \\\n",
       "0               0       115        5692                0                   1   \n",
       "1           56943       115        5716                0                   1   \n",
       "2          118363       115         128                0                   1   \n",
       "3          131167       115        7860                0                   1   \n",
       "4          137965       115        7922                0                   1   \n",
       "...           ...       ...         ...              ...                 ...   \n",
       "999995   26482248  20949024        8803                0                   1   \n",
       "999996   26516686  20949024        4664                0                   1   \n",
       "999997   26537967  20949024        4108                0                   0   \n",
       "999998   26590240  20949024        5014                0                   0   \n",
       "999999   26605316  20949024        9828                0                   0   \n",
       "\n",
       "        prior_question_elapsed_time  \n",
       "0                               NaN  \n",
       "1                           37000.0  \n",
       "2                           55000.0  \n",
       "3                           19000.0  \n",
       "4                           11000.0  \n",
       "...                             ...  \n",
       "999995                      14000.0  \n",
       "999996                      17000.0  \n",
       "999997                      18000.0  \n",
       "999998                       6000.0  \n",
       "999999                      46000.0  \n",
       "\n",
       "[1000000 rows x 6 columns]"
      ],
      "text/html": "<div>\n<style scoped>\n    .dataframe tbody tr th:only-of-type {\n        vertical-align: middle;\n    }\n\n    .dataframe tbody tr th {\n        vertical-align: top;\n    }\n\n    .dataframe thead th {\n        text-align: right;\n    }\n</style>\n<table border=\"1\" class=\"dataframe\">\n  <thead>\n    <tr style=\"text-align: right;\">\n      <th></th>\n      <th>timestamp</th>\n      <th>user_id</th>\n      <th>content_id</th>\n      <th>content_type_id</th>\n      <th>answered_correctly</th>\n      <th>prior_question_elapsed_time</th>\n    </tr>\n  </thead>\n  <tbody>\n    <tr>\n      <th>0</th>\n      <td>0</td>\n      <td>115</td>\n      <td>5692</td>\n      <td>0</td>\n      <td>1</td>\n      <td>NaN</td>\n    </tr>\n    <tr>\n      <th>1</th>\n      <td>56943</td>\n      <td>115</td>\n      <td>5716</td>\n      <td>0</td>\n      <td>1</td>\n      <td>37000.0</td>\n    </tr>\n    <tr>\n      <th>2</th>\n      <td>118363</td>\n      <td>115</td>\n      <td>128</td>\n      <td>0</td>\n      <td>1</td>\n      <td>55000.0</td>\n    </tr>\n    <tr>\n      <th>3</th>\n      <td>131167</td>\n      <td>115</td>\n      <td>7860</td>\n      <td>0</td>\n      <td>1</td>\n      <td>19000.0</td>\n    </tr>\n    <tr>\n      <th>4</th>\n      <td>137965</td>\n      <td>115</td>\n      <td>7922</td>\n      <td>0</td>\n      <td>1</td>\n      <td>11000.0</td>\n    </tr>\n    <tr>\n      <th>...</th>\n      <td>...</td>\n      <td>...</td>\n      <td>...</td>\n      <td>...</td>\n      <td>...</td>\n      <td>...</td>\n    </tr>\n    <tr>\n      <th>999995</th>\n      <td>26482248</td>\n      <td>20949024</td>\n      <td>8803</td>\n      <td>0</td>\n      <td>1</td>\n      <td>14000.0</td>\n    </tr>\n    <tr>\n      <th>999996</th>\n      <td>26516686</td>\n      <td>20949024</td>\n      <td>4664</td>\n      <td>0</td>\n      <td>1</td>\n      <td>17000.0</td>\n    </tr>\n    <tr>\n      <th>999997</th>\n      <td>26537967</td>\n      <td>20949024</td>\n      <td>4108</td>\n      <td>0</td>\n      <td>0</td>\n      <td>18000.0</td>\n    </tr>\n    <tr>\n      <th>999998</th>\n      <td>26590240</td>\n      <td>20949024</td>\n      <td>5014</td>\n      <td>0</td>\n      <td>0</td>\n      <td>6000.0</td>\n    </tr>\n    <tr>\n      <th>999999</th>\n      <td>26605316</td>\n      <td>20949024</td>\n      <td>9828</td>\n      <td>0</td>\n      <td>0</td>\n      <td>46000.0</td>\n    </tr>\n  </tbody>\n</table>\n<p>1000000 rows × 6 columns</p>\n</div>"
     },
     "metadata": {},
     "execution_count": 5
    }
   ],
   "source": [
    "train"
   ]
  },
  {
   "cell_type": "code",
   "execution_count": 6,
   "metadata": {},
   "outputs": [],
   "source": [
    "train = train[train.content_type_id == 0].drop('content_type_id', axis=1)"
   ]
  },
  {
   "cell_type": "code",
   "execution_count": 7,
   "metadata": {},
   "outputs": [],
   "source": [
    "train = train.merge(questions_df, left_on=\"content_id\", right_on=\"question_id\").drop('content_id', axis=1)"
   ]
  },
  {
   "cell_type": "code",
   "execution_count": 8,
   "metadata": {},
   "outputs": [],
   "source": [
    "train.sort_values(['user_id', 'timestamp'], inplace=True)"
   ]
  },
  {
   "cell_type": "code",
   "execution_count": 9,
   "metadata": {},
   "outputs": [
    {
     "output_type": "execute_result",
     "data": {
      "text/plain": [
       "        timestamp   user_id  answered_correctly  prior_question_elapsed_time  \\\n",
       "0               0       115                   1                          NaN   \n",
       "337         56943       115                   1                      37000.0   \n",
       "579        118363       115                   1                      55000.0   \n",
       "760        131167       115                   1                      19000.0   \n",
       "963        137965       115                   1                      11000.0   \n",
       "...           ...       ...                 ...                          ...   \n",
       "207187   26482248  20949024                   1                      14000.0   \n",
       "89100    26516686  20949024                   1                      17000.0   \n",
       "86033    26537967  20949024                   0                      18000.0   \n",
       "283089   26590240  20949024                   0                       6000.0   \n",
       "923174   26605316  20949024                   0                      46000.0   \n",
       "\n",
       "        question_id  part  \n",
       "0              5692     5  \n",
       "337            5716     5  \n",
       "579             128     1  \n",
       "760            7860     1  \n",
       "963            7922     1  \n",
       "...             ...   ...  \n",
       "207187         8803     5  \n",
       "89100          4664     5  \n",
       "86033          4108     5  \n",
       "283089         5014     5  \n",
       "923174         9828     5  \n",
       "\n",
       "[980093 rows x 6 columns]"
      ],
      "text/html": "<div>\n<style scoped>\n    .dataframe tbody tr th:only-of-type {\n        vertical-align: middle;\n    }\n\n    .dataframe tbody tr th {\n        vertical-align: top;\n    }\n\n    .dataframe thead th {\n        text-align: right;\n    }\n</style>\n<table border=\"1\" class=\"dataframe\">\n  <thead>\n    <tr style=\"text-align: right;\">\n      <th></th>\n      <th>timestamp</th>\n      <th>user_id</th>\n      <th>answered_correctly</th>\n      <th>prior_question_elapsed_time</th>\n      <th>question_id</th>\n      <th>part</th>\n    </tr>\n  </thead>\n  <tbody>\n    <tr>\n      <th>0</th>\n      <td>0</td>\n      <td>115</td>\n      <td>1</td>\n      <td>NaN</td>\n      <td>5692</td>\n      <td>5</td>\n    </tr>\n    <tr>\n      <th>337</th>\n      <td>56943</td>\n      <td>115</td>\n      <td>1</td>\n      <td>37000.0</td>\n      <td>5716</td>\n      <td>5</td>\n    </tr>\n    <tr>\n      <th>579</th>\n      <td>118363</td>\n      <td>115</td>\n      <td>1</td>\n      <td>55000.0</td>\n      <td>128</td>\n      <td>1</td>\n    </tr>\n    <tr>\n      <th>760</th>\n      <td>131167</td>\n      <td>115</td>\n      <td>1</td>\n      <td>19000.0</td>\n      <td>7860</td>\n      <td>1</td>\n    </tr>\n    <tr>\n      <th>963</th>\n      <td>137965</td>\n      <td>115</td>\n      <td>1</td>\n      <td>11000.0</td>\n      <td>7922</td>\n      <td>1</td>\n    </tr>\n    <tr>\n      <th>...</th>\n      <td>...</td>\n      <td>...</td>\n      <td>...</td>\n      <td>...</td>\n      <td>...</td>\n      <td>...</td>\n    </tr>\n    <tr>\n      <th>207187</th>\n      <td>26482248</td>\n      <td>20949024</td>\n      <td>1</td>\n      <td>14000.0</td>\n      <td>8803</td>\n      <td>5</td>\n    </tr>\n    <tr>\n      <th>89100</th>\n      <td>26516686</td>\n      <td>20949024</td>\n      <td>1</td>\n      <td>17000.0</td>\n      <td>4664</td>\n      <td>5</td>\n    </tr>\n    <tr>\n      <th>86033</th>\n      <td>26537967</td>\n      <td>20949024</td>\n      <td>0</td>\n      <td>18000.0</td>\n      <td>4108</td>\n      <td>5</td>\n    </tr>\n    <tr>\n      <th>283089</th>\n      <td>26590240</td>\n      <td>20949024</td>\n      <td>0</td>\n      <td>6000.0</td>\n      <td>5014</td>\n      <td>5</td>\n    </tr>\n    <tr>\n      <th>923174</th>\n      <td>26605316</td>\n      <td>20949024</td>\n      <td>0</td>\n      <td>46000.0</td>\n      <td>9828</td>\n      <td>5</td>\n    </tr>\n  </tbody>\n</table>\n<p>980093 rows × 6 columns</p>\n</div>"
     },
     "metadata": {},
     "execution_count": 9
    }
   ],
   "source": [
    "train"
   ]
  },
  {
   "source": [
    "# Construction des entrées"
   ],
   "cell_type": "markdown",
   "metadata": {}
  },
  {
   "source": [
    "Pour le moment on conserve le prior question elapsed time au lieu de construire le current question elapsed time"
   ],
   "cell_type": "markdown",
   "metadata": {}
  },
  {
   "cell_type": "code",
   "execution_count": 10,
   "metadata": {},
   "outputs": [],
   "source": [
    "train['timestamp_diff'] = train.groupby('user_id')['timestamp'].diff().fillna(0)"
   ]
  },
  {
   "cell_type": "code",
   "execution_count": 11,
   "metadata": {},
   "outputs": [],
   "source": [
    "train.drop('timestamp', axis=1, inplace=True)"
   ]
  },
  {
   "cell_type": "code",
   "execution_count": 12,
   "metadata": {},
   "outputs": [
    {
     "output_type": "execute_result",
     "data": {
      "text/plain": [
       "         user_id  answered_correctly  prior_question_elapsed_time  \\\n",
       "0            115                   1                          NaN   \n",
       "337          115                   1                      37000.0   \n",
       "579          115                   1                      55000.0   \n",
       "760          115                   1                      19000.0   \n",
       "963          115                   1                      11000.0   \n",
       "...          ...                 ...                          ...   \n",
       "207187  20949024                   1                      14000.0   \n",
       "89100   20949024                   1                      17000.0   \n",
       "86033   20949024                   0                      18000.0   \n",
       "283089  20949024                   0                       6000.0   \n",
       "923174  20949024                   0                      46000.0   \n",
       "\n",
       "        question_id  part  timestamp_diff  \n",
       "0              5692     5             0.0  \n",
       "337            5716     5         56943.0  \n",
       "579             128     1         61420.0  \n",
       "760            7860     1         12804.0  \n",
       "963            7922     1          6798.0  \n",
       "...             ...   ...             ...  \n",
       "207187         8803     5         25769.0  \n",
       "89100          4664     5         34438.0  \n",
       "86033          4108     5         21281.0  \n",
       "283089         5014     5         52273.0  \n",
       "923174         9828     5         15076.0  \n",
       "\n",
       "[980093 rows x 6 columns]"
      ],
      "text/html": "<div>\n<style scoped>\n    .dataframe tbody tr th:only-of-type {\n        vertical-align: middle;\n    }\n\n    .dataframe tbody tr th {\n        vertical-align: top;\n    }\n\n    .dataframe thead th {\n        text-align: right;\n    }\n</style>\n<table border=\"1\" class=\"dataframe\">\n  <thead>\n    <tr style=\"text-align: right;\">\n      <th></th>\n      <th>user_id</th>\n      <th>answered_correctly</th>\n      <th>prior_question_elapsed_time</th>\n      <th>question_id</th>\n      <th>part</th>\n      <th>timestamp_diff</th>\n    </tr>\n  </thead>\n  <tbody>\n    <tr>\n      <th>0</th>\n      <td>115</td>\n      <td>1</td>\n      <td>NaN</td>\n      <td>5692</td>\n      <td>5</td>\n      <td>0.0</td>\n    </tr>\n    <tr>\n      <th>337</th>\n      <td>115</td>\n      <td>1</td>\n      <td>37000.0</td>\n      <td>5716</td>\n      <td>5</td>\n      <td>56943.0</td>\n    </tr>\n    <tr>\n      <th>579</th>\n      <td>115</td>\n      <td>1</td>\n      <td>55000.0</td>\n      <td>128</td>\n      <td>1</td>\n      <td>61420.0</td>\n    </tr>\n    <tr>\n      <th>760</th>\n      <td>115</td>\n      <td>1</td>\n      <td>19000.0</td>\n      <td>7860</td>\n      <td>1</td>\n      <td>12804.0</td>\n    </tr>\n    <tr>\n      <th>963</th>\n      <td>115</td>\n      <td>1</td>\n      <td>11000.0</td>\n      <td>7922</td>\n      <td>1</td>\n      <td>6798.0</td>\n    </tr>\n    <tr>\n      <th>...</th>\n      <td>...</td>\n      <td>...</td>\n      <td>...</td>\n      <td>...</td>\n      <td>...</td>\n      <td>...</td>\n    </tr>\n    <tr>\n      <th>207187</th>\n      <td>20949024</td>\n      <td>1</td>\n      <td>14000.0</td>\n      <td>8803</td>\n      <td>5</td>\n      <td>25769.0</td>\n    </tr>\n    <tr>\n      <th>89100</th>\n      <td>20949024</td>\n      <td>1</td>\n      <td>17000.0</td>\n      <td>4664</td>\n      <td>5</td>\n      <td>34438.0</td>\n    </tr>\n    <tr>\n      <th>86033</th>\n      <td>20949024</td>\n      <td>0</td>\n      <td>18000.0</td>\n      <td>4108</td>\n      <td>5</td>\n      <td>21281.0</td>\n    </tr>\n    <tr>\n      <th>283089</th>\n      <td>20949024</td>\n      <td>0</td>\n      <td>6000.0</td>\n      <td>5014</td>\n      <td>5</td>\n      <td>52273.0</td>\n    </tr>\n    <tr>\n      <th>923174</th>\n      <td>20949024</td>\n      <td>0</td>\n      <td>46000.0</td>\n      <td>9828</td>\n      <td>5</td>\n      <td>15076.0</td>\n    </tr>\n  </tbody>\n</table>\n<p>980093 rows × 6 columns</p>\n</div>"
     },
     "metadata": {},
     "execution_count": 12
    }
   ],
   "source": [
    "train"
   ]
  },
  {
   "cell_type": "code",
   "execution_count": 36,
   "metadata": {},
   "outputs": [],
   "source": [
    "batch = [torch.tensor(x.drop('user_id', axis=1).values) for _, x in train.groupby('user_id')]"
   ]
  },
  {
   "cell_type": "code",
   "execution_count": 39,
   "metadata": {},
   "outputs": [
    {
     "output_type": "execute_result",
     "data": {
      "text/plain": [
       "torch.Size([30, 5])"
      ]
     },
     "metadata": {},
     "execution_count": 39
    }
   ],
   "source": [
    "batch[1].size()"
   ]
  },
  {
   "cell_type": "code",
   "execution_count": 41,
   "metadata": {},
   "outputs": [],
   "source": [
    "x_train = pad_sequence(batch)"
   ]
  },
  {
   "source": [
    "# Modèle"
   ],
   "cell_type": "markdown",
   "metadata": {}
  },
  {
   "cell_type": "code",
   "execution_count": 45,
   "metadata": {},
   "outputs": [],
   "source": [
    "encoder_layer = nn.TransformerEncoderLayer(d_model=512, nhead=8)\n",
    "transformer_encoder = nn.TransformerEncoder(encoder_layer, num_layers=1)"
   ]
  },
  {
   "cell_type": "code",
   "execution_count": null,
   "metadata": {},
   "outputs": [],
   "source": []
  }
 ]
}