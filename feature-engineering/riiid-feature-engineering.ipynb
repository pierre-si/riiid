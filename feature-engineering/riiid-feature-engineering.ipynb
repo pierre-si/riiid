{
 "metadata": {
  "language_info": {
   "codemirror_mode": {
    "name": "ipython",
    "version": 3
   },
   "file_extension": ".py",
   "mimetype": "text/x-python",
   "name": "python",
   "nbconvert_exporter": "python",
   "pygments_lexer": "ipython3",
   "version": "3.9.2"
  },
  "orig_nbformat": 2,
  "kernelspec": {
   "name": "python392jvsc74a57bd02820280be186ab661f9de35bd01829c341881105846ede977025339161cc4480",
   "display_name": "Python 3.9.2 64-bit ('torch': conda)"
  }
 },
 "nbformat": 4,
 "nbformat_minor": 2,
 "cells": [
  {
   "cell_type": "code",
   "execution_count": 1,
   "metadata": {},
   "outputs": [],
   "source": [
    "import sys, os\n",
    "\n",
    "# Add utility_scripts in the current path so that they can be imported directly just like in interactive mode\n",
    "sys.path.append(os.path.abspath(\"../usr/lib/\"))\n",
    "for script_folder in os.listdir(\"../usr/lib/\"):\n",
    "    sys.path.append(os.path.abspath(\"../usr/lib/\"+script_folder))"
   ]
  },
  {
   "cell_type": "code",
   "execution_count": 2,
   "metadata": {},
   "outputs": [],
   "source": [
    "import pickle \n",
    "import pandas as pd"
   ]
  },
  {
   "source": [
    "# Chargement de train et jointure avec questions"
   ],
   "cell_type": "markdown",
   "metadata": {}
  },
  {
   "cell_type": "code",
   "execution_count": 3,
   "metadata": {},
   "outputs": [
    {
     "output_type": "execute_result",
     "data": {
      "text/plain": [
       "   question_id  bundle_id  part\n",
       "0            0          0     1\n",
       "1            1          1     1\n",
       "2            2          2     1\n",
       "3            3          3     1\n",
       "4            4          4     1"
      ],
      "text/html": "<div>\n<style scoped>\n    .dataframe tbody tr th:only-of-type {\n        vertical-align: middle;\n    }\n\n    .dataframe tbody tr th {\n        vertical-align: top;\n    }\n\n    .dataframe thead th {\n        text-align: right;\n    }\n</style>\n<table border=\"1\" class=\"dataframe\">\n  <thead>\n    <tr style=\"text-align: right;\">\n      <th></th>\n      <th>question_id</th>\n      <th>bundle_id</th>\n      <th>part</th>\n    </tr>\n  </thead>\n  <tbody>\n    <tr>\n      <th>0</th>\n      <td>0</td>\n      <td>0</td>\n      <td>1</td>\n    </tr>\n    <tr>\n      <th>1</th>\n      <td>1</td>\n      <td>1</td>\n      <td>1</td>\n    </tr>\n    <tr>\n      <th>2</th>\n      <td>2</td>\n      <td>2</td>\n      <td>1</td>\n    </tr>\n    <tr>\n      <th>3</th>\n      <td>3</td>\n      <td>3</td>\n      <td>1</td>\n    </tr>\n    <tr>\n      <th>4</th>\n      <td>4</td>\n      <td>4</td>\n      <td>1</td>\n    </tr>\n  </tbody>\n</table>\n</div>"
     },
     "metadata": {},
     "execution_count": 3
    }
   ],
   "source": [
    "questions_df = pd.read_csv('../input/riiid-test-answer-prediction/questions.csv', usecols=[0, 1, 3])\n",
    "questions_df[:5]"
   ]
  },
  {
   "cell_type": "code",
   "execution_count": 4,
   "metadata": {},
   "outputs": [],
   "source": [
    "data_types_dict={\n",
    "    #'row_id': 'int64',\n",
    "    'timestamp': 'int64',\n",
    "    'user_id': 'int32',\n",
    "    'content_id': 'int16',\n",
    "    'content_type_id': 'int8',\n",
    "    #'task_container_id': 'int16',\n",
    "    #'user_answer': 'int8',\n",
    "    'answered_correctly': 'int8',\n",
    "    'prior_question_elapsed_time': 'float32', \n",
    "    #'prior_question_had_explanation': 'boolean',\n",
    "    }"
   ]
  },
  {
   "cell_type": "code",
   "execution_count": 5,
   "metadata": {},
   "outputs": [],
   "source": [
    "train = pd.read_csv('../input/riiid-test-answer-prediction/train.csv', usecols=data_types_dict.keys(), dtype=data_types_dict)\n",
    "# skipfooter forces the use of the python engine which is much slower and too slow for this file."
   ]
  },
  {
   "cell_type": "code",
   "execution_count": 6,
   "metadata": {},
   "outputs": [],
   "source": [
    "train = train[train.content_type_id == 0].drop('content_type_id', axis=1)\n",
    "train = train.merge(questions_df, left_on=\"content_id\", right_on=\"question_id\").drop('content_id', axis=1)"
   ]
  },
  {
   "cell_type": "code",
   "execution_count": 8,
   "metadata": {},
   "outputs": [],
   "source": [
    "train.sort_values(['user_id', 'timestamp'], inplace=True)"
   ]
  },
  {
   "cell_type": "code",
   "execution_count": 9,
   "metadata": {},
   "outputs": [
    {
     "output_type": "execute_result",
     "data": {
      "text/plain": [
       "        timestamp  user_id  answered_correctly  prior_question_elapsed_time  \\\n",
       "0               0      115                   1                          NaN   \n",
       "36514       56943      115                   1                      37000.0   \n",
       "60505      118363      115                   1                      55000.0   \n",
       "80124      131167      115                   1                      19000.0   \n",
       "101857     137965      115                   1                      11000.0   \n",
       "\n",
       "        question_id  bundle_id  part  \n",
       "0              5692       5692     5  \n",
       "36514          5716       5716     5  \n",
       "60505           128        128     1  \n",
       "80124          7860       7860     1  \n",
       "101857         7922       7922     1  "
      ],
      "text/html": "<div>\n<style scoped>\n    .dataframe tbody tr th:only-of-type {\n        vertical-align: middle;\n    }\n\n    .dataframe tbody tr th {\n        vertical-align: top;\n    }\n\n    .dataframe thead th {\n        text-align: right;\n    }\n</style>\n<table border=\"1\" class=\"dataframe\">\n  <thead>\n    <tr style=\"text-align: right;\">\n      <th></th>\n      <th>timestamp</th>\n      <th>user_id</th>\n      <th>answered_correctly</th>\n      <th>prior_question_elapsed_time</th>\n      <th>question_id</th>\n      <th>bundle_id</th>\n      <th>part</th>\n    </tr>\n  </thead>\n  <tbody>\n    <tr>\n      <th>0</th>\n      <td>0</td>\n      <td>115</td>\n      <td>1</td>\n      <td>NaN</td>\n      <td>5692</td>\n      <td>5692</td>\n      <td>5</td>\n    </tr>\n    <tr>\n      <th>36514</th>\n      <td>56943</td>\n      <td>115</td>\n      <td>1</td>\n      <td>37000.0</td>\n      <td>5716</td>\n      <td>5716</td>\n      <td>5</td>\n    </tr>\n    <tr>\n      <th>60505</th>\n      <td>118363</td>\n      <td>115</td>\n      <td>1</td>\n      <td>55000.0</td>\n      <td>128</td>\n      <td>128</td>\n      <td>1</td>\n    </tr>\n    <tr>\n      <th>80124</th>\n      <td>131167</td>\n      <td>115</td>\n      <td>1</td>\n      <td>19000.0</td>\n      <td>7860</td>\n      <td>7860</td>\n      <td>1</td>\n    </tr>\n    <tr>\n      <th>101857</th>\n      <td>137965</td>\n      <td>115</td>\n      <td>1</td>\n      <td>11000.0</td>\n      <td>7922</td>\n      <td>7922</td>\n      <td>1</td>\n    </tr>\n  </tbody>\n</table>\n</div>"
     },
     "metadata": {},
     "execution_count": 9
    }
   ],
   "source": [
    "train[:5]"
   ]
  },
  {
   "cell_type": "code",
   "execution_count": 10,
   "metadata": {},
   "outputs": [],
   "source": [
    "train.reset_index().to_feather('train-subset.feather')"
   ]
  },
  {
   "source": [
    "# Construction des entrées et de sorties"
   ],
   "cell_type": "markdown",
   "metadata": {}
  },
  {
   "cell_type": "code",
   "execution_count": 3,
   "metadata": {},
   "outputs": [
    {
     "output_type": "execute_result",
     "data": {
      "text/plain": [
       "          timestamp     user_id  answered_correctly  \\\n",
       "0                 0         115                   1   \n",
       "1             56943         115                   1   \n",
       "2            118363         115                   1   \n",
       "3            131167         115                   1   \n",
       "4            137965         115                   1   \n",
       "...             ...         ...                 ...   \n",
       "99271295  428564420  2147482888                   1   \n",
       "99271296  428585000  2147482888                   1   \n",
       "99271297  428613475  2147482888                   1   \n",
       "99271298  428649406  2147482888                   0   \n",
       "99271299  428692118  2147482888                   1   \n",
       "\n",
       "          prior_question_elapsed_time  question_id  bundle_id  part  \n",
       "0                                 NaN         5692       5692     5  \n",
       "1                             37000.0         5716       5716     5  \n",
       "2                             55000.0          128        128     1  \n",
       "3                             19000.0         7860       7860     1  \n",
       "4                             11000.0         7922       7922     1  \n",
       "...                               ...          ...        ...   ...  \n",
       "99271295                      18000.0         3586       3586     5  \n",
       "99271296                      14000.0         6341       6341     5  \n",
       "99271297                      14000.0         4212       4212     5  \n",
       "99271298                      22000.0         6343       6343     5  \n",
       "99271299                      29000.0         7995       7995     5  \n",
       "\n",
       "[99271300 rows x 7 columns]"
      ],
      "text/html": "<div>\n<style scoped>\n    .dataframe tbody tr th:only-of-type {\n        vertical-align: middle;\n    }\n\n    .dataframe tbody tr th {\n        vertical-align: top;\n    }\n\n    .dataframe thead th {\n        text-align: right;\n    }\n</style>\n<table border=\"1\" class=\"dataframe\">\n  <thead>\n    <tr style=\"text-align: right;\">\n      <th></th>\n      <th>timestamp</th>\n      <th>user_id</th>\n      <th>answered_correctly</th>\n      <th>prior_question_elapsed_time</th>\n      <th>question_id</th>\n      <th>bundle_id</th>\n      <th>part</th>\n    </tr>\n  </thead>\n  <tbody>\n    <tr>\n      <th>0</th>\n      <td>0</td>\n      <td>115</td>\n      <td>1</td>\n      <td>NaN</td>\n      <td>5692</td>\n      <td>5692</td>\n      <td>5</td>\n    </tr>\n    <tr>\n      <th>1</th>\n      <td>56943</td>\n      <td>115</td>\n      <td>1</td>\n      <td>37000.0</td>\n      <td>5716</td>\n      <td>5716</td>\n      <td>5</td>\n    </tr>\n    <tr>\n      <th>2</th>\n      <td>118363</td>\n      <td>115</td>\n      <td>1</td>\n      <td>55000.0</td>\n      <td>128</td>\n      <td>128</td>\n      <td>1</td>\n    </tr>\n    <tr>\n      <th>3</th>\n      <td>131167</td>\n      <td>115</td>\n      <td>1</td>\n      <td>19000.0</td>\n      <td>7860</td>\n      <td>7860</td>\n      <td>1</td>\n    </tr>\n    <tr>\n      <th>4</th>\n      <td>137965</td>\n      <td>115</td>\n      <td>1</td>\n      <td>11000.0</td>\n      <td>7922</td>\n      <td>7922</td>\n      <td>1</td>\n    </tr>\n    <tr>\n      <th>...</th>\n      <td>...</td>\n      <td>...</td>\n      <td>...</td>\n      <td>...</td>\n      <td>...</td>\n      <td>...</td>\n      <td>...</td>\n    </tr>\n    <tr>\n      <th>99271295</th>\n      <td>428564420</td>\n      <td>2147482888</td>\n      <td>1</td>\n      <td>18000.0</td>\n      <td>3586</td>\n      <td>3586</td>\n      <td>5</td>\n    </tr>\n    <tr>\n      <th>99271296</th>\n      <td>428585000</td>\n      <td>2147482888</td>\n      <td>1</td>\n      <td>14000.0</td>\n      <td>6341</td>\n      <td>6341</td>\n      <td>5</td>\n    </tr>\n    <tr>\n      <th>99271297</th>\n      <td>428613475</td>\n      <td>2147482888</td>\n      <td>1</td>\n      <td>14000.0</td>\n      <td>4212</td>\n      <td>4212</td>\n      <td>5</td>\n    </tr>\n    <tr>\n      <th>99271298</th>\n      <td>428649406</td>\n      <td>2147482888</td>\n      <td>0</td>\n      <td>22000.0</td>\n      <td>6343</td>\n      <td>6343</td>\n      <td>5</td>\n    </tr>\n    <tr>\n      <th>99271299</th>\n      <td>428692118</td>\n      <td>2147482888</td>\n      <td>1</td>\n      <td>29000.0</td>\n      <td>7995</td>\n      <td>7995</td>\n      <td>5</td>\n    </tr>\n  </tbody>\n</table>\n<p>99271300 rows × 7 columns</p>\n</div>"
     },
     "metadata": {},
     "execution_count": 3
    }
   ],
   "source": [
    "train = pd.read_feather('train-subset.feather').drop(['index'], axis=1)\n",
    "train"
   ]
  },
  {
   "cell_type": "code",
   "execution_count": 6,
   "metadata": {},
   "outputs": [
    {
     "output_type": "execute_result",
     "data": {
      "text/plain": [
       "array([1, 0, 1, ..., 1, 1, 1], dtype=int8)"
      ]
     },
     "metadata": {},
     "execution_count": 6
    }
   ],
   "source": [
    "users_y = train.groupby('user_id', sort=False).tail(1)['answered_correctly'].values\n",
    "users_y"
   ]
  },
  {
   "cell_type": "code",
   "execution_count": 22,
   "metadata": {},
   "outputs": [],
   "source": [
    "with open('users_y.pickle', 'wb') as f:\n",
    "    pickle.dump(users_y, f)"
   ]
  },
  {
   "cell_type": "code",
   "execution_count": 4,
   "metadata": {},
   "outputs": [
    {
     "output_type": "execute_result",
     "data": {
      "text/plain": [
       "timestamp                        0.0\n",
       "user_id                        115.0\n",
       "answered_correctly               0.0\n",
       "prior_question_elapsed_time      0.0\n",
       "question_id                      0.0\n",
       "bundle_id                        0.0\n",
       "part                             1.0\n",
       "dtype: float64"
      ]
     },
     "metadata": {},
     "execution_count": 4
    }
   ],
   "source": [
    "train.min() # on vérifie que le min est proche de 0 afin de ne pas perdre de place dans nn.embedding où les vecteurs sont alloués à partir de l'index 0"
   ]
  },
  {
   "cell_type": "code",
   "execution_count": 5,
   "metadata": {},
   "outputs": [],
   "source": [
    "train['answered_correctly'] = train['answered_correctly']+1 # Incorrect answer becomes 1 and correct 2 to let 0 be used for padding\n",
    "train['question_id'] = train['question_id'] + 1 # so that 0 can be used for padding"
   ]
  },
  {
   "source": [
    "We offset the output embeddings by one position to make sure that predictions for position $i$ can depend only on the known features at position less than $i$: 'answered_correctly' now means 'last question answered_correctly'. Look ahead mask is not required because we only predict the last answer's correctness."
   ],
   "cell_type": "markdown",
   "metadata": {}
  },
  {
   "cell_type": "code",
   "execution_count": 6,
   "metadata": {},
   "outputs": [],
   "source": [
    "train['answered_correctly'] = train.groupby('user_id', sort=False)['answered_correctly'].shift(fill_value=3) # 3 is ≃ <sos> token"
   ]
  },
  {
   "source": [
    "We offset 'prior_question_elapsed_time' by one position to get 'current_question_elapsed_time'"
   ],
   "cell_type": "markdown",
   "metadata": {}
  },
  {
   "cell_type": "code",
   "execution_count": 7,
   "metadata": {},
   "outputs": [],
   "source": [
    "train['current_question_elapsed_time'] = train.groupby('user_id', sort=False)['prior_question_elapsed_time'].shift(-1, fill_value=0) # 0 is ≃ <eos> token\n",
    "# due to how we applied the shift, in a bundle of questions only the last question will have the correct elapsed time value, the others will still have the prior elapsed time\n",
    "# therefore, we only keep the last value per bundle and do a backward fill\n",
    "train['current_question_elapsed_time'] = train.groupby(['user_id', 'bundle_id'], sort=False)['current_question_elapsed_time'].tail(1)\n",
    "train['current_question_elapsed_time'] = train['current_question_elapsed_time'].bfill()\n",
    "train.drop('prior_question_elapsed_time', axis=1, inplace=True)"
   ]
  },
  {
   "source": [
    "Timestamp_diff is the difference from the past question timestamp to the current question timestamp clipped by a maximum value of 3 days (2,592×10⁵ seconds).  \n",
    "Questions pertaining to a same bundle will have a timestamp diff of 0 except for the first question of the bundle. We apply a forward fill to broadcast this value to the whole bundle."
   ],
   "cell_type": "markdown",
   "metadata": {}
  },
  {
   "cell_type": "code",
   "execution_count": 8,
   "metadata": {},
   "outputs": [],
   "source": [
    "train['timestamp_diff'] = train.groupby('user_id', sort=False)['timestamp'].diff().replace(0, method='ffill').fillna(0)\n",
    "train['timestamp_diff'].clip(lower=None, upper=2.592*1e5, inplace=True)\n",
    "train.drop(columns='timestamp', inplace=True)"
   ]
  },
  {
   "cell_type": "code",
   "execution_count": 9,
   "metadata": {},
   "outputs": [],
   "source": [
    "train = train[['user_id', 'question_id', 'part', 'answered_correctly', 'current_question_elapsed_time', 'timestamp_diff']]"
   ]
  },
  {
   "cell_type": "code",
   "execution_count": 12,
   "metadata": {},
   "outputs": [
    {
     "output_type": "execute_result",
     "data": {
      "text/plain": [
       "             user_id  question_id  part  answered_correctly  \\\n",
       "0                115         5693     5                   3   \n",
       "1                115         5717     5                   2   \n",
       "2                115          129     1                   2   \n",
       "3                115         7861     1                   2   \n",
       "4                115         7923     1                   2   \n",
       "...              ...          ...   ...                 ...   \n",
       "99271295  2147482888         3587     5                   2   \n",
       "99271296  2147482888         6342     5                   2   \n",
       "99271297  2147482888         4213     5                   2   \n",
       "99271298  2147482888         6344     5                   2   \n",
       "99271299  2147482888         7996     5                   1   \n",
       "\n",
       "          current_question_elapsed_time  timestamp_diff  \n",
       "0                               37000.0             0.0  \n",
       "1                               55000.0         56943.0  \n",
       "2                               19000.0         61420.0  \n",
       "3                               11000.0         12804.0  \n",
       "4                                5000.0          6798.0  \n",
       "...                                 ...             ...  \n",
       "99271295                        14000.0         21548.0  \n",
       "99271296                        14000.0         20580.0  \n",
       "99271297                        22000.0         28475.0  \n",
       "99271298                        29000.0         35931.0  \n",
       "99271299                            0.0         42712.0  \n",
       "\n",
       "[99271300 rows x 6 columns]"
      ],
      "text/html": "<div>\n<style scoped>\n    .dataframe tbody tr th:only-of-type {\n        vertical-align: middle;\n    }\n\n    .dataframe tbody tr th {\n        vertical-align: top;\n    }\n\n    .dataframe thead th {\n        text-align: right;\n    }\n</style>\n<table border=\"1\" class=\"dataframe\">\n  <thead>\n    <tr style=\"text-align: right;\">\n      <th></th>\n      <th>user_id</th>\n      <th>question_id</th>\n      <th>part</th>\n      <th>answered_correctly</th>\n      <th>current_question_elapsed_time</th>\n      <th>timestamp_diff</th>\n    </tr>\n  </thead>\n  <tbody>\n    <tr>\n      <th>0</th>\n      <td>115</td>\n      <td>5693</td>\n      <td>5</td>\n      <td>3</td>\n      <td>37000.0</td>\n      <td>0.0</td>\n    </tr>\n    <tr>\n      <th>1</th>\n      <td>115</td>\n      <td>5717</td>\n      <td>5</td>\n      <td>2</td>\n      <td>55000.0</td>\n      <td>56943.0</td>\n    </tr>\n    <tr>\n      <th>2</th>\n      <td>115</td>\n      <td>129</td>\n      <td>1</td>\n      <td>2</td>\n      <td>19000.0</td>\n      <td>61420.0</td>\n    </tr>\n    <tr>\n      <th>3</th>\n      <td>115</td>\n      <td>7861</td>\n      <td>1</td>\n      <td>2</td>\n      <td>11000.0</td>\n      <td>12804.0</td>\n    </tr>\n    <tr>\n      <th>4</th>\n      <td>115</td>\n      <td>7923</td>\n      <td>1</td>\n      <td>2</td>\n      <td>5000.0</td>\n      <td>6798.0</td>\n    </tr>\n    <tr>\n      <th>...</th>\n      <td>...</td>\n      <td>...</td>\n      <td>...</td>\n      <td>...</td>\n      <td>...</td>\n      <td>...</td>\n    </tr>\n    <tr>\n      <th>99271295</th>\n      <td>2147482888</td>\n      <td>3587</td>\n      <td>5</td>\n      <td>2</td>\n      <td>14000.0</td>\n      <td>21548.0</td>\n    </tr>\n    <tr>\n      <th>99271296</th>\n      <td>2147482888</td>\n      <td>6342</td>\n      <td>5</td>\n      <td>2</td>\n      <td>14000.0</td>\n      <td>20580.0</td>\n    </tr>\n    <tr>\n      <th>99271297</th>\n      <td>2147482888</td>\n      <td>4213</td>\n      <td>5</td>\n      <td>2</td>\n      <td>22000.0</td>\n      <td>28475.0</td>\n    </tr>\n    <tr>\n      <th>99271298</th>\n      <td>2147482888</td>\n      <td>6344</td>\n      <td>5</td>\n      <td>2</td>\n      <td>29000.0</td>\n      <td>35931.0</td>\n    </tr>\n    <tr>\n      <th>99271299</th>\n      <td>2147482888</td>\n      <td>7996</td>\n      <td>5</td>\n      <td>1</td>\n      <td>0.0</td>\n      <td>42712.0</td>\n    </tr>\n  </tbody>\n</table>\n<p>99271300 rows × 6 columns</p>\n</div>"
     },
     "metadata": {},
     "execution_count": 12
    }
   ],
   "source": [
    "train"
   ]
  },
  {
   "cell_type": "code",
   "execution_count": 13,
   "metadata": {},
   "outputs": [
    {
     "output_type": "execute_result",
     "data": {
      "text/plain": [
       "user_id                            int32\n",
       "question_id                        int64\n",
       "part                               int64\n",
       "answered_correctly                  int8\n",
       "current_question_elapsed_time    float32\n",
       "timestamp_diff                   float64\n",
       "dtype: object"
      ]
     },
     "metadata": {},
     "execution_count": 13
    }
   ],
   "source": [
    "train.dtypes"
   ]
  },
  {
   "cell_type": "code",
   "execution_count": 10,
   "metadata": {},
   "outputs": [],
   "source": [
    "train.reset_index(drop=True).to_feather('train-engineered.feather')"
   ]
  },
  {
   "source": [
    "# Séquence par utilisateur"
   ],
   "cell_type": "markdown",
   "metadata": {}
  },
  {
   "cell_type": "code",
   "execution_count": 4,
   "metadata": {},
   "outputs": [
    {
     "output_type": "execute_result",
     "data": {
      "text/plain": [
       "             user_id  question_id  part  answered_correctly  \\\n",
       "0                115         5693     5                   3   \n",
       "1                115         5717     5                   2   \n",
       "2                115          129     1                   2   \n",
       "3                115         7861     1                   2   \n",
       "4                115         7923     1                   2   \n",
       "...              ...          ...   ...                 ...   \n",
       "99271295  2147482888         3587     5                   2   \n",
       "99271296  2147482888         6342     5                   2   \n",
       "99271297  2147482888         4213     5                   2   \n",
       "99271298  2147482888         6344     5                   2   \n",
       "99271299  2147482888         7996     5                   1   \n",
       "\n",
       "          current_question_elapsed_time  timestamp_diff  \n",
       "0                               37000.0             0.0  \n",
       "1                               55000.0         56943.0  \n",
       "2                               19000.0         61420.0  \n",
       "3                               11000.0         12804.0  \n",
       "4                                5000.0          6798.0  \n",
       "...                                 ...             ...  \n",
       "99271295                        14000.0         21548.0  \n",
       "99271296                        14000.0         20580.0  \n",
       "99271297                        22000.0         28475.0  \n",
       "99271298                        29000.0         35931.0  \n",
       "99271299                            0.0         42712.0  \n",
       "\n",
       "[99271300 rows x 6 columns]"
      ],
      "text/html": "<div>\n<style scoped>\n    .dataframe tbody tr th:only-of-type {\n        vertical-align: middle;\n    }\n\n    .dataframe tbody tr th {\n        vertical-align: top;\n    }\n\n    .dataframe thead th {\n        text-align: right;\n    }\n</style>\n<table border=\"1\" class=\"dataframe\">\n  <thead>\n    <tr style=\"text-align: right;\">\n      <th></th>\n      <th>user_id</th>\n      <th>question_id</th>\n      <th>part</th>\n      <th>answered_correctly</th>\n      <th>current_question_elapsed_time</th>\n      <th>timestamp_diff</th>\n    </tr>\n  </thead>\n  <tbody>\n    <tr>\n      <th>0</th>\n      <td>115</td>\n      <td>5693</td>\n      <td>5</td>\n      <td>3</td>\n      <td>37000.0</td>\n      <td>0.0</td>\n    </tr>\n    <tr>\n      <th>1</th>\n      <td>115</td>\n      <td>5717</td>\n      <td>5</td>\n      <td>2</td>\n      <td>55000.0</td>\n      <td>56943.0</td>\n    </tr>\n    <tr>\n      <th>2</th>\n      <td>115</td>\n      <td>129</td>\n      <td>1</td>\n      <td>2</td>\n      <td>19000.0</td>\n      <td>61420.0</td>\n    </tr>\n    <tr>\n      <th>3</th>\n      <td>115</td>\n      <td>7861</td>\n      <td>1</td>\n      <td>2</td>\n      <td>11000.0</td>\n      <td>12804.0</td>\n    </tr>\n    <tr>\n      <th>4</th>\n      <td>115</td>\n      <td>7923</td>\n      <td>1</td>\n      <td>2</td>\n      <td>5000.0</td>\n      <td>6798.0</td>\n    </tr>\n    <tr>\n      <th>...</th>\n      <td>...</td>\n      <td>...</td>\n      <td>...</td>\n      <td>...</td>\n      <td>...</td>\n      <td>...</td>\n    </tr>\n    <tr>\n      <th>99271295</th>\n      <td>2147482888</td>\n      <td>3587</td>\n      <td>5</td>\n      <td>2</td>\n      <td>14000.0</td>\n      <td>21548.0</td>\n    </tr>\n    <tr>\n      <th>99271296</th>\n      <td>2147482888</td>\n      <td>6342</td>\n      <td>5</td>\n      <td>2</td>\n      <td>14000.0</td>\n      <td>20580.0</td>\n    </tr>\n    <tr>\n      <th>99271297</th>\n      <td>2147482888</td>\n      <td>4213</td>\n      <td>5</td>\n      <td>2</td>\n      <td>22000.0</td>\n      <td>28475.0</td>\n    </tr>\n    <tr>\n      <th>99271298</th>\n      <td>2147482888</td>\n      <td>6344</td>\n      <td>5</td>\n      <td>2</td>\n      <td>29000.0</td>\n      <td>35931.0</td>\n    </tr>\n    <tr>\n      <th>99271299</th>\n      <td>2147482888</td>\n      <td>7996</td>\n      <td>5</td>\n      <td>1</td>\n      <td>0.0</td>\n      <td>42712.0</td>\n    </tr>\n  </tbody>\n</table>\n<p>99271300 rows × 6 columns</p>\n</div>"
     },
     "metadata": {},
     "execution_count": 4
    }
   ],
   "source": [
    "train = pd.read_feather('train-engineered.feather')\n",
    "train"
   ]
  },
  {
   "cell_type": "code",
   "execution_count": 5,
   "metadata": {},
   "outputs": [],
   "source": [
    "#batch = [x.drop('user_id', axis=1).values for _, x in train.groupby('user_id')]\n",
    "users_cat = [x[['question_id', 'part', 'answered_correctly']].values for _, x in train.groupby('user_id', sort=False)]"
   ]
  },
  {
   "cell_type": "code",
   "execution_count": 9,
   "metadata": {},
   "outputs": [],
   "source": [
    "with open('users_cat_4.pickle', 'wb') as f:\n",
    "    pickle.dump(users_cat, f, protocol=4)"
   ]
  },
  {
   "cell_type": "code",
   "execution_count": null,
   "metadata": {},
   "outputs": [],
   "source": [
    "with open('users_cat_5.pickle', 'wb') as f:\n",
    "    pickle.dump(users_cat, f, protocol=5)"
   ]
  },
  {
   "cell_type": "code",
   "execution_count": 14,
   "metadata": {},
   "outputs": [],
   "source": [
    "users_cont = [x[['current_question_elapsed_time', 'timestamp_diff']].values for _, x in train.groupby('user_id', sort=False)]"
   ]
  },
  {
   "cell_type": "code",
   "execution_count": 15,
   "metadata": {},
   "outputs": [],
   "source": [
    "with open('users_cont_4.pickle', 'wb') as f:\n",
    "    pickle.dump(users_cont, f, protocol=4)"
   ]
  },
  {
   "cell_type": "code",
   "execution_count": null,
   "metadata": {},
   "outputs": [],
   "source": []
  }
 ]
}